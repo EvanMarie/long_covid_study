{
 "cells": [
  {
   "cell_type": "markdown",
   "metadata": {
    "id": "hMsrl-cYQuww"
   },
   "source": [
    "# ⇨ Part One: Data Pre-Processing and Feature Engineering"
   ]
  },
  {
   "cell_type": "code",
   "execution_count": 34,
   "metadata": {
    "executionInfo": {
     "elapsed": 11201,
     "status": "ok",
     "timestamp": 1666714372390,
     "user": {
      "displayName": "Evan Carr Homeschool",
      "userId": "06914599846009526611"
     },
     "user_tz": 240
    },
    "id": "2bY3ojWx-Zlx"
   },
   "outputs": [],
   "source": [
    "%%capture\n",
    "!pip install numpy"
   ]
  },
  {
   "cell_type": "code",
   "execution_count": 35,
   "metadata": {
    "executionInfo": {
     "elapsed": 8091,
     "status": "ok",
     "timestamp": 1666714383540,
     "user": {
      "displayName": "Evan Carr Homeschool",
      "userId": "06914599846009526611"
     },
     "user_tz": 240
    },
    "id": "m2HyOEL--brp"
   },
   "outputs": [],
   "source": [
    "%%capture\n",
    "!pip install pandas"
   ]
  },
  {
   "cell_type": "code",
   "execution_count": 36,
   "metadata": {
    "executionInfo": {
     "elapsed": 287,
     "status": "ok",
     "timestamp": 1666714385151,
     "user": {
      "displayName": "Evan Carr Homeschool",
      "userId": "06914599846009526611"
     },
     "user_tz": 240
    },
    "id": "FqsQ3Bev_7Ps"
   },
   "outputs": [],
   "source": [
    "import pandas as pd\n",
    "import matplotlib.pyplot as plt\n",
    "import numpy as np\n",
    "import os\n",
    "from zipfile import ZipFile\n",
    "from urllib.request import urlretrieve"
   ]
  },
  {
   "cell_type": "code",
   "execution_count": 37,
   "metadata": {
    "executionInfo": {
     "elapsed": 1125,
     "status": "ok",
     "timestamp": 1666714387542,
     "user": {
      "displayName": "Evan Carr Homeschool",
      "userId": "06914599846009526611"
     },
     "user_tz": 240
    },
    "id": "BleL4JoKNewv"
   },
   "outputs": [],
   "source": [
    "files_zipped = 'https://www.evanmarie.com/content/files/puppy_original_csvs.zip'\n",
    "urlretrieve(files_zipped, 'original_csvs.zip')\n",
    "with ZipFile('original_csvs.zip') as zipped_file:\n",
    "    zipped_file.extractall(path='original_csvs')"
   ]
  },
  {
   "cell_type": "markdown",
   "metadata": {
    "id": "53iOIS7DdPUm"
   },
   "source": [
    "## ⇨ Importing the CSV files and preprocessing each to make them combinable.\n",
    "\n",
    "#### Most of the explanation of the steps in this section are noted in comments above each set off code."
   ]
  },
  {
   "cell_type": "code",
   "execution_count": 38,
   "metadata": {
    "executionInfo": {
     "elapsed": 3697,
     "status": "ok",
     "timestamp": 1666714394285,
     "user": {
      "displayName": "Evan Carr Homeschool",
      "userId": "06914599846009526611"
     },
     "user_tz": 240
    },
    "id": "XdVj8FvQ-00h"
   },
   "outputs": [],
   "source": [
    "# --------------------------CONVERT CSVs TO DATAFRAMES -------------------------------#\n",
    "\n",
    "active_burn_df = pd.read_csv('original_csvs/active_burn.csv')\n",
    "distance_walk_run_df = pd.read_csv('original_csvs/distance_walk_run.csv')\n",
    "environmental_audio_df = pd.read_csv('original_csvs/environmental_audio.csv')\n",
    "exercise_time_df = pd.read_csv('original_csvs/exercise_time.csv')\n",
    "flights_climbed_df = pd.read_csv('original_csvs/flights_climbed.csv')\n",
    "heart_rate_df = pd.read_csv('original_csvs/heart_rate.csv')\n",
    "high_hr_event_df = pd.read_csv('original_csvs/high_hr_event.csv')\n",
    "hr_variability_df = pd.read_csv('original_csvs/hr_variability.csv')\n",
    "oxygen_saturation_df = pd.read_csv('original_csvs/oxygen_saturation.csv')\n",
    "respiratory_rate_df = pd.read_csv('original_csvs/respiratory_rate.csv')\n",
    "resting_burn_df = pd.read_csv('original_csvs/resting_burn.csv')\n",
    "stair_ascent_df = pd.read_csv('original_csvs/stair_ascent.csv')\n",
    "stair_descent_df = pd.read_csv('original_csvs/stair_descent.csv')\n",
    "stand_hour_df = pd.read_csv('original_csvs/stand_hour.csv')\n",
    "stand_time_df = pd.read_csv('original_csvs/stand_time.csv')\n",
    "step_count_df = pd.read_csv('original_csvs/step_count.csv')\n",
    "step_length_df = pd.read_csv('original_csvs/step_length.csv')\n",
    "walk_speed_df = pd.read_csv('original_csvs/walk_speed.csv')\n",
    "walk_steadiness_df = pd.read_csv('original_csvs/walk_steadiness.csv')\n",
    "walking_double_support_df = pd.read_csv('original_csvs/walking_double_support.csv')\n",
    "walking_hr_df = pd.read_csv('original_csvs/walking_hr.csv')"
   ]
  },
  {
   "cell_type": "code",
   "execution_count": 39,
   "metadata": {
    "executionInfo": {
     "elapsed": 274,
     "status": "ok",
     "timestamp": 1666714409073,
     "user": {
      "displayName": "Evan Carr Homeschool",
      "userId": "06914599846009526611"
     },
     "user_tz": 240
    },
    "id": "SBwptWukWsUk"
   },
   "outputs": [],
   "source": [
    "dataframe_list = [active_burn_df, distance_walk_run_df, environmental_audio_df, exercise_time_df,\n",
    "                    flights_climbed_df, heart_rate_df, high_hr_event_df, hr_variability_df,\n",
    "                    oxygen_saturation_df, respiratory_rate_df, resting_burn_df, stair_ascent_df,\n",
    "                    stair_descent_df, stand_hour_df, stand_time_df, step_count_df, step_length_df,\n",
    "                    walk_speed_df, walk_steadiness_df, walking_double_support_df, walking_hr_df]"
   ]
  },
  {
   "cell_type": "code",
   "execution_count": 40,
   "metadata": {
    "executionInfo": {
     "elapsed": 118,
     "status": "ok",
     "timestamp": 1666714411756,
     "user": {
      "displayName": "Evan Carr Homeschool",
      "userId": "06914599846009526611"
     },
     "user_tz": 240
    },
    "id": "N2s7mCsYWu3C"
   },
   "outputs": [],
   "source": [
    "# Function converting the times in the dataframes from UTC time to Eastern US time.\n",
    "\n",
    "def convert_utc_to_eastern(df_list):\n",
    "    for df in df_list:\n",
    "        df['start'] = pd.to_datetime(df['start'], utc=True).dt.tz_convert('US/Eastern')\n",
    "        df['end'] = pd.to_datetime(df['end'], utc=True).dt.tz_convert('US/Eastern')\n",
    "    return df_list"
   ]
  },
  {
   "cell_type": "code",
   "execution_count": 41,
   "metadata": {
    "executionInfo": {
     "elapsed": 1051,
     "status": "ok",
     "timestamp": 1666714414262,
     "user": {
      "displayName": "Evan Carr Homeschool",
      "userId": "06914599846009526611"
     },
     "user_tz": 240
    },
    "id": "9xWt3l3XX3ug"
   },
   "outputs": [],
   "source": [
    "dataframe_list = convert_utc_to_eastern(dataframe_list)"
   ]
  },
  {
   "cell_type": "code",
   "execution_count": 42,
   "metadata": {
    "executionInfo": {
     "elapsed": 97,
     "status": "ok",
     "timestamp": 1666714416021,
     "user": {
      "displayName": "Evan Carr Homeschool",
      "userId": "06914599846009526611"
     },
     "user_tz": 240
    },
    "id": "roh4wE8SACdw"
   },
   "outputs": [],
   "source": [
    "# Function that takes a dataframe and a date column as input\n",
    "# and adds a year, month, and day column to the dataframe\n",
    "\n",
    "def add_time_columns(df_list):\n",
    "    for df in df_list:\n",
    "        df['year'] = pd.DatetimeIndex(df['start']).year\n",
    "        df['month'] = pd.DatetimeIndex(df['start']).month\n",
    "        df['day'] = pd.DatetimeIndex(df['start']).day\n",
    "    return df_list"
   ]
  },
  {
   "cell_type": "code",
   "execution_count": 43,
   "metadata": {
    "executionInfo": {
     "elapsed": 459,
     "status": "ok",
     "timestamp": 1666714418274,
     "user": {
      "displayName": "Evan Carr Homeschool",
      "userId": "06914599846009526611"
     },
     "user_tz": 240
    },
    "id": "dkdQQKA7juwD"
   },
   "outputs": [],
   "source": [
    "dataframe_list = add_time_columns(dataframe_list)"
   ]
  },
  {
   "cell_type": "code",
   "execution_count": 44,
   "metadata": {
    "executionInfo": {
     "elapsed": 124,
     "status": "ok",
     "timestamp": 1666714420277,
     "user": {
      "displayName": "Evan Carr Homeschool",
      "userId": "06914599846009526611"
     },
     "user_tz": 240
    },
    "id": "l7cOg91-DQTn"
   },
   "outputs": [],
   "source": [
    "# Function that takes a dataframe, its start column, and its end column as input\n",
    "# and create a duration column for the dataframe\n",
    "\n",
    "def add_duration_column(df_list):\n",
    "  for df in df_list:\n",
    "    df['duration_sec'] = pd.to_datetime(df['end']) - pd.to_datetime(df['start'])\n",
    "  return df_list"
   ]
  },
  {
   "cell_type": "code",
   "execution_count": 45,
   "metadata": {
    "executionInfo": {
     "elapsed": 718,
     "status": "ok",
     "timestamp": 1666714423077,
     "user": {
      "displayName": "Evan Carr Homeschool",
      "userId": "06914599846009526611"
     },
     "user_tz": 240
    },
    "id": "BZTksnd_i5Ms"
   },
   "outputs": [],
   "source": [
    "dataframe_list = add_duration_column(dataframe_list)"
   ]
  },
  {
   "cell_type": "code",
   "execution_count": 46,
   "metadata": {
    "executionInfo": {
     "elapsed": 257,
     "status": "ok",
     "timestamp": 1666714424450,
     "user": {
      "displayName": "Evan Carr Homeschool",
      "userId": "06914599846009526611"
     },
     "user_tz": 240
    },
    "id": "OKzK9WE3GG2X"
   },
   "outputs": [],
   "source": [
    "# Function to convert duration column to seconds and rename the column\n",
    "\n",
    "def convert_duration_to_seconds(df, duration_col, new_col_name):\n",
    "    df[new_col_name] = df[duration_col].dt.total_seconds()\n",
    "    df = df.drop(columns=duration_col)\n",
    "    return df"
   ]
  },
  {
   "cell_type": "code",
   "execution_count": 47,
   "metadata": {
    "executionInfo": {
     "elapsed": 282,
     "status": "ok",
     "timestamp": 1666714430468,
     "user": {
      "displayName": "Evan Carr Homeschool",
      "userId": "06914599846009526611"
     },
     "user_tz": 240
    },
    "id": "wS8EjNMyGG0B"
   },
   "outputs": [],
   "source": [
    "#--------------Convert duration columns to seconds--------------------------#\n",
    "\n",
    "active_burn_df = convert_duration_to_seconds(active_burn_df, 'duration_sec', 'active_burn_duration_sec')\n",
    "distance_walk_run_df = convert_duration_to_seconds(distance_walk_run_df, 'duration_sec', 'distance_walk_duration_sec')\n",
    "environmental_audio_df = convert_duration_to_seconds(environmental_audio_df, 'duration_sec', 'environmental_audio_duration_sec')\n",
    "exercise_time_df = convert_duration_to_seconds(exercise_time_df, 'duration_sec', 'exercise_time_duration_sec')\n",
    "flights_climbed_df = convert_duration_to_seconds(flights_climbed_df, 'duration_sec', 'flights_climbed_duration_sec')\n",
    "heart_rate_df = convert_duration_to_seconds(heart_rate_df, 'duration_sec', 'heart_rate_duration_sec')\n",
    "high_hr_event_df = convert_duration_to_seconds(high_hr_event_df, 'duration_sec', 'high_hr_event_duration_sec')\n",
    "hr_variability_df = convert_duration_to_seconds(hr_variability_df, 'duration_sec', 'hr_variability_duration_sec')\n",
    "oxygen_saturation_df = convert_duration_to_seconds(oxygen_saturation_df, 'duration_sec', 'oxygen_saturation_duration_sec')\n",
    "respiratory_rate_df = convert_duration_to_seconds(respiratory_rate_df, 'duration_sec', 'respiratory_rate_duration_sec')\n",
    "resting_burn_df = convert_duration_to_seconds(resting_burn_df, 'duration_sec', 'resting_burn_duration_sec')\n",
    "stair_ascent_df = convert_duration_to_seconds(stair_ascent_df, 'duration_sec', 'stair_ascent_duration_sec')\n",
    "stair_descent_df = convert_duration_to_seconds(stair_descent_df, 'duration_sec', 'stair_descent_duration_sec')\n",
    "stand_hour_df = convert_duration_to_seconds(stand_hour_df, 'duration_sec', 'stand_hour_duration_sec')\n",
    "stand_time_df = convert_duration_to_seconds(stand_time_df, 'duration_sec', 'stand_time_duration_sec')\n",
    "step_count_df = convert_duration_to_seconds(step_count_df, 'duration_sec', 'step_count_duration_sec')\n",
    "step_length_df = convert_duration_to_seconds(step_length_df, 'duration_sec', 'step_length_duration_sec')\n",
    "walk_speed_df = convert_duration_to_seconds(walk_speed_df, 'duration_sec', 'walk_speed_duration_sec')\n",
    "walk_steadiness_df = convert_duration_to_seconds(walk_steadiness_df, 'duration_sec', 'walk_steadiness_duration_sec')\n",
    "walking_double_support_df = convert_duration_to_seconds(walking_double_support_df, 'duration_sec', 'walking_double_support_duration_sec')\n",
    "walking_hr_df = convert_duration_to_seconds(walking_hr_df, 'duration_sec', 'walking_hr_duration_sec')"
   ]
  },
  {
   "cell_type": "code",
   "execution_count": 48,
   "metadata": {
    "executionInfo": {
     "elapsed": 280,
     "status": "ok",
     "timestamp": 1666714433331,
     "user": {
      "displayName": "Evan Carr Homeschool",
      "userId": "06914599846009526611"
     },
     "user_tz": 240
    },
    "id": "7a3KREEEX8jn"
   },
   "outputs": [],
   "source": [
    "# Function that takes dataframe_list as input and returns a list of dataframes\n",
    "# with a new \"date\" column from the year, month, and day columns\n",
    "\n",
    "def create_date_column(df_list):\n",
    "    for df in df_list:\n",
    "        df['date'] = pd.to_datetime(df[['year', 'month', 'day']])\n",
    "    return df_list\n",
    "\n",
    "[active_burn_df, distance_walk_run_df, environmental_audio_df, exercise_time_df,\n",
    "                    flights_climbed_df, heart_rate_df, high_hr_event_df, hr_variability_df,\n",
    "                    oxygen_saturation_df, respiratory_rate_df, resting_burn_df, stair_ascent_df,\n",
    "                    stair_descent_df, stand_hour_df, stand_time_df, step_count_df, step_length_df,\n",
    "                    walk_speed_df, walk_steadiness_df, walking_double_support_df, walking_hr_df] = create_date_column(dataframe_list)"
   ]
  },
  {
   "cell_type": "code",
   "execution_count": 63,
   "metadata": {
    "executionInfo": {
     "elapsed": 237,
     "status": "ok",
     "timestamp": 1666714505154,
     "user": {
      "displayName": "Evan Carr Homeschool",
      "userId": "06914599846009526611"
     },
     "user_tz": 240
    },
    "id": "mjzi5Y2qJqCf"
   },
   "outputs": [],
   "source": [
    "os.mkdir('pre_reduction_csvs')"
   ]
  },
  {
   "cell_type": "code",
   "execution_count": 64,
   "metadata": {
    "executionInfo": {
     "elapsed": 41375,
     "status": "ok",
     "timestamp": 1666714547474,
     "user": {
      "displayName": "Evan Carr Homeschool",
      "userId": "06914599846009526611"
     },
     "user_tz": 240
    },
    "id": "OzblX6ELde25"
   },
   "outputs": [],
   "source": [
    "# -------------------------DOWNLOAD the DATAFRAMES so far as CSV files -------------------------------#\n",
    "\n",
    "active_burn_df.to_csv('pre_reduction_csvs/active_burn_df_before_reduction.csv')\n",
    "distance_walk_run_df.to_csv('pre_reduction_csvs/distance_walk_run_df_before_reduction.csv')\n",
    "environmental_audio_df.to_csv('pre_reduction_csvs/environmental_audio_df_before_reduction.csv')\n",
    "exercise_time_df.to_csv('pre_reduction_csvs/exercise_time_df_before_reduction.csv')\n",
    "flights_climbed_df.to_csv('pre_reduction_csvs/flights_climbed_df_before_reduction.csv')\n",
    "heart_rate_df.to_csv('pre_reduction_csvs/heart_rate_df_before_reduction.csv')\n",
    "high_hr_event_df.to_csv('pre_reduction_csvs/high_hr_event_df_before_reduction.csv')\n",
    "hr_variability_df.to_csv('pre_reduction_csvs/hr_variability_df_before_reduction.csv')\n",
    "oxygen_saturation_df.to_csv('pre_reduction_csvs/oxygen_saturation_df_before_reduction.csv')\n",
    "respiratory_rate_df.to_csv('pre_reduction_csvs/respiratory_rate_df_before_reduction.csv')\n",
    "resting_burn_df.to_csv('pre_reduction_csvs/resting_burn_df_before_reduction.csv')\n",
    "stair_ascent_df.to_csv('pre_reduction_csvs/stair_ascent_df_before_reduction.csv')\n",
    "stair_descent_df.to_csv('pre_reduction_csvs/stair_descent_df_before_reduction.csv')\n",
    "stand_hour_df.to_csv('pre_reduction_csvs/stand_hour_df_before_reduction.csv')\n",
    "stand_time_df.to_csv('pre_reduction_csvs/stand_time_df_before_reduction.csv')\n",
    "step_count_df.to_csv('pre_reduction_csvs/step_count_df_before_reduction.csv')\n",
    "step_length_df.to_csv('pre_reduction_csvs/step_length_df_before_reduction.csv')\n",
    "walk_speed_df.to_csv('pre_reduction_csvs/walk_speed_df_before_reduction.csv')\n",
    "walk_steadiness_df.to_csv('pre_reduction_csvs/walk_steadiness_df_before_reduction.csv')\n",
    "walking_double_support_df.to_csv('pre_reduction_csvs/walking_double_support_df_before_reduction.csv')\n",
    "walking_hr_df.to_csv('pre_reduction_csvs/walking_hr_df_before_reduction.csv')"
   ]
  },
  {
   "cell_type": "markdown",
   "metadata": {
    "id": "aEEEGIi3dLhX"
   },
   "source": [
    "## ⇨ Averages and Sums Columns\n",
    "\n",
    "Adding an average or sum column for all important input columns."
   ]
  },
  {
   "cell_type": "code",
   "execution_count": 51,
   "metadata": {
    "executionInfo": {
     "elapsed": 200,
     "status": "ok",
     "timestamp": 1666714452856,
     "user": {
      "displayName": "Evan Carr Homeschool",
      "userId": "06914599846009526611"
     },
     "user_tz": 240
    },
    "id": "RjhfS2r9bcTn"
   },
   "outputs": [],
   "source": [
    "# Function to add a daytime category column that takes the dataframe, the time column\n",
    "# to calculate category from, and the new column name\n",
    "# 1 = middle of the night, 2 = morning, 3 = afternoon, 4 = evening\n",
    "\n",
    "def add_daytime_category(df_list):\n",
    "  for df in df_list:\n",
    "      df['daytime_category'] = df['start'].apply(lambda x: 1 if x.hour < 6 else 2 if x.hour < 12 \n",
    "                                  else 3 if x.hour < 18 else 4)\n",
    "  return df_list"
   ]
  },
  {
   "cell_type": "code",
   "execution_count": 52,
   "metadata": {
    "executionInfo": {
     "elapsed": 9287,
     "status": "ok",
     "timestamp": 1666714465911,
     "user": {
      "displayName": "Evan Carr Homeschool",
      "userId": "06914599846009526611"
     },
     "user_tz": 240
    },
    "id": "-KWDZJzHmK9f"
   },
   "outputs": [],
   "source": [
    "[active_burn_df, distance_walk_run_df, environmental_audio_df, exercise_time_df,\n",
    "                    flights_climbed_df, heart_rate_df, high_hr_event_df, hr_variability_df,\n",
    "                    oxygen_saturation_df, respiratory_rate_df, resting_burn_df, stair_ascent_df,\n",
    "                    stair_descent_df, stand_hour_df, stand_time_df, step_count_df, step_length_df,\n",
    "                    walk_speed_df, walk_steadiness_df, walking_double_support_df, walking_hr_df] = add_daytime_category(dataframe_list)"
   ]
  },
  {
   "cell_type": "code",
   "execution_count": 53,
   "metadata": {
    "executionInfo": {
     "elapsed": 20,
     "status": "ok",
     "timestamp": 1666714465911,
     "user": {
      "displayName": "Evan Carr Homeschool",
      "userId": "06914599846009526611"
     },
     "user_tz": 240
    },
    "id": "vTLaz8IRbcHP"
   },
   "outputs": [],
   "source": [
    "#--------------------------AVERAGE DAYTIME CATEGORIES FOR DAYS--------------------------# \n",
    "# Function to add a new column that has the average for a column for each daytime category on a given day\n",
    "\n",
    "def add_average_column(df, column, new_column_name):\n",
    "    df[new_column_name] = df.groupby(['date', 'daytime_category'])[column].transform('mean')\n",
    "    return df\n",
    "\n",
    "#--------------------------SUM DAYTIME CATEGORIES FOR DAYS--------------------------# \n",
    "# Function to add a new column that has the sum for a column for each daytime category on a given day\n",
    "\n",
    "def add_sum_column(df, column, new_column_name):\n",
    "    df[new_column_name] = df.groupby(['date', 'daytime_category'])[column].transform('sum')\n",
    "    return df"
   ]
  },
  {
   "cell_type": "code",
   "execution_count": 54,
   "metadata": {
    "executionInfo": {
     "elapsed": 137,
     "status": "ok",
     "timestamp": 1666714469027,
     "user": {
      "displayName": "Evan Carr Homeschool",
      "userId": "06914599846009526611"
     },
     "user_tz": 240
    },
    "id": "Ogj3zXkcyRSt"
   },
   "outputs": [],
   "source": [
    "# -----------------------------SUMMING COLUMNS -----------------------------#\n",
    "cols_to_sum = [\n",
    "    (active_burn_df, 'active_cal_burned'),\n",
    "    (active_burn_df, 'active_burn_duration_sec'),\n",
    "    (distance_walk_run_df, 'distance_walk_miles'),\n",
    "    (distance_walk_run_df, 'distance_walk_duration_sec'),\n",
    "    (environmental_audio_df, 'environmental_audio_duration_sec'),\n",
    "    (exercise_time_df, 'exercise_min'),\n",
    "    (exercise_time_df, 'exercise_time_duration_sec'),\n",
    "    (flights_climbed_df, 'flights_climbed_count'),\n",
    "    (flights_climbed_df, 'flights_climbed_duration_sec'),\n",
    "    (high_hr_event_df, 'high_hr_event_duration_sec'),\n",
    "    (walking_hr_df, 'walking_hr_bpm'),\n",
    "    (walking_hr_df, 'walking_hr_duration_sec'),\n",
    "    (resting_burn_df, 'resting_burn_cal'),\n",
    "    (resting_burn_df, 'resting_burn_duration_sec'),\n",
    "    (stair_ascent_df, 'stair_ascent_ft_sec'),\n",
    "    (stair_descent_df, 'stair_descent_ft_sec'),\n",
    "    (stand_hour_df, 'stand_hour'),\n",
    "    (stand_hour_df, 'stand_hour_duration_sec'),\n",
    "    (stand_time_df, 'stand_time_min'),\n",
    "    (stand_time_df, 'stand_time_duration_sec'),\n",
    "    (step_count_df, 'step_count'),\n",
    "    (step_count_df, 'step_count_duration_sec')\n",
    "]\n",
    "\n",
    "# -----------------------------AVERAGING COLUMNS -----------------------------#\n",
    "cols_to_avg = [\n",
    "    (environmental_audio_df, 'env_audio_db'),\n",
    "    (heart_rate_df, 'hr_bpm'),\n",
    "    (heart_rate_df, 'heart_rate_duration_sec'),\n",
    "    (hr_variability_df, 'hr_variability_ms'),\n",
    "    (hr_variability_df, 'hr_variability_duration_sec'),\n",
    "    (oxygen_saturation_df, 'o2_sat_percentage'),\n",
    "    (oxygen_saturation_df, 'oxygen_saturation_duration_sec'),\n",
    "    (oxygen_saturation_df, 'o2_sat_barametric_kpa'),\n",
    "    (respiratory_rate_df, 'respiratory_count_per_min'),\n",
    "    (respiratory_rate_df, 'respiratory_rate_duration_sec'),\n",
    "    (stair_ascent_df, 'stair_ascent_duration_sec'),\n",
    "    (stair_descent_df, 'stair_descent_duration_sec'),\n",
    "    (step_length_df, 'step_length_inches'),\n",
    "    (step_length_df, 'step_length_duration_sec'),\n",
    "    (walk_speed_df, 'walk_speed_mph'),\n",
    "    (walk_speed_df, 'walk_speed_duration_sec'),\n",
    "    (walk_steadiness_df, 'walk_steadiness_percentage'),\n",
    "    (walk_steadiness_df, 'walk_steadiness_duration_sec'),\n",
    "    (walking_double_support_df, 'walking_double_support_percentage'),\n",
    "    (walking_double_support_df, 'walking_double_support_duration_sec')\n",
    "]"
   ]
  },
  {
   "cell_type": "code",
   "execution_count": 55,
   "metadata": {
    "executionInfo": {
     "elapsed": 96,
     "status": "ok",
     "timestamp": 1666714471842,
     "user": {
      "displayName": "Evan Carr Homeschool",
      "userId": "06914599846009526611"
     },
     "user_tz": 240
    },
    "id": "KpoHR30t5K1o"
   },
   "outputs": [],
   "source": [
    "# -----------------------------APPLY AVG and SUM FUNCTIONS -----------------------------#\n",
    "# Functions to apply the add_average_column and the add_sum_column functions to each column\n",
    "# in the list of columns to average and sum\n",
    "\n",
    "def apply_add_average_column(column_list):\n",
    "    for col in column_list:\n",
    "        add_average_column(col[0], col[1], str(col[1]) + '_avg')\n",
    "        \n",
    "def apply_add_sum_column(column_list):\n",
    "    for col in column_list:\n",
    "        add_sum_column(col[0], col[1], str(col[1]) + '_avg')"
   ]
  },
  {
   "cell_type": "code",
   "execution_count": 56,
   "metadata": {
    "executionInfo": {
     "elapsed": 397,
     "status": "ok",
     "timestamp": 1666714475196,
     "user": {
      "displayName": "Evan Carr Homeschool",
      "userId": "06914599846009526611"
     },
     "user_tz": 240
    },
    "id": "P_ERHxdB5xaE"
   },
   "outputs": [],
   "source": [
    "# ----------------------APPLY AVG & SUM FUNCTIONS to LISTS of COLS ------------------------#\n",
    "apply_add_average_column(cols_to_avg)\n",
    "apply_add_sum_column(cols_to_sum)"
   ]
  },
  {
   "cell_type": "code",
   "execution_count": 57,
   "metadata": {
    "id": "-eh3tXulVFjY"
   },
   "outputs": [],
   "source": [
    "# --------------------------DROP FIRST and SECOND COLUMNS -----------------------------#\n",
    "# Function to delete the \"start\" and \"end\" columns from each dataframe\n",
    "\n",
    "def drop_useless_columns(df_list):\n",
    "    for df in df_list:\n",
    "        df.drop(columns=['start', 'end', 'duration_sec'], inplace=True)\n",
    "    return df_list\n",
    "\n",
    "[active_burn_df, distance_walk_run_df, environmental_audio_df, exercise_time_df,\n",
    "                    flights_climbed_df, heart_rate_df, high_hr_event_df, hr_variability_df,\n",
    "                    oxygen_saturation_df, respiratory_rate_df, resting_burn_df, stair_ascent_df,\n",
    "                    stair_descent_df, stand_hour_df, stand_time_df, step_count_df, step_length_df,\n",
    "                    walk_speed_df, walk_steadiness_df, walking_double_support_df, walking_hr_df] = drop_useless_columns(dataframe_list)"
   ]
  },
  {
   "cell_type": "code",
   "execution_count": 58,
   "metadata": {
    "id": "fZVN5MItxW4V"
   },
   "outputs": [],
   "source": [
    "# --------------------------DROP COLUMNS that have been SUMMED and AVERAGED-----------------------------#\n",
    "\n",
    "active_burn_df.drop(columns=['active_cal_burned', 'active_burn_duration_sec'], inplace=True)\n",
    "distance_walk_run_df.drop(columns=['distance_walk_miles', 'distance_walk_duration_sec'], inplace=True)\n",
    "environmental_audio_df.drop(columns=['env_audio_db'], inplace=True)\n",
    "exercise_time_df.drop(columns=['exercise_min', 'exercise_time_duration_sec'], inplace=True)\n",
    "flights_climbed_df.drop(columns=['flights_climbed_count', 'flights_climbed_duration_sec'], inplace=True)\n",
    "heart_rate_df.drop(columns=['hr_bpm', 'heart_rate_duration_sec'], inplace=True)\n",
    "high_hr_event_df.drop(columns=['high_hr_event', 'high_hr_event_duration_sec'], inplace=True)\n",
    "hr_variability_df.drop(columns=['hr_variability_ms', 'hr_variability_duration_sec'], inplace=True)\n",
    "oxygen_saturation_df.drop(columns=['o2_sat_percentage', 'oxygen_saturation_duration_sec', 'o2_sat_barametric_kpa'], inplace=True)\n",
    "respiratory_rate_df.drop(columns=['respiratory_count_per_min', 'respiratory_rate_duration_sec'], inplace=True)\n",
    "resting_burn_df.drop(columns=['resting_burn_cal', 'resting_burn_duration_sec'], inplace=True)\n",
    "stair_ascent_df.drop(columns=['stair_ascent_ft_sec', 'stair_ascent_duration_sec' ], inplace=True)\n",
    "stair_descent_df.drop(columns=[ 'stair_descent_ft_sec',   'stair_descent_duration_sec' ], inplace=True)\n",
    "stand_hour_df.drop(columns=['stand_hour', 'stand_hour_duration_sec'], inplace=True)\n",
    "stand_time_df.drop(columns=['stand_time_min', 'stand_time_duration_sec'], inplace=True)\n",
    "step_count_df.drop(columns=['step_count', 'step_count_duration_sec'], inplace=True)\n",
    "step_length_df.drop(columns=['step_length_inches', 'step_length_duration_sec'], inplace=True)\n",
    "walk_speed_df.drop(columns=['walk_speed_mph', 'walk_speed_duration_sec'], inplace=True)\n",
    "walk_steadiness_df.drop(columns=['walk_steadiness_percentage', 'walk_steadiness_duration_sec'], inplace=True)\n",
    "walking_double_support_df.drop(columns=['walking_double_support_percentage', 'walking_double_support_duration_sec'], inplace=True)\n",
    "walking_hr_df.drop(columns=['walking_hr_bpm', 'walking_hr_duration_sec'], inplace=True)"
   ]
  },
  {
   "cell_type": "code",
   "execution_count": null,
   "metadata": {
    "id": "B63GNApQxW2A"
   },
   "outputs": [],
   "source": [
    "# --------------------------PRINT COLUMNS FROM ALL DATAFRAMES -----------------------------#\n",
    "# Print dataframe info before merging to make sure they are as expected\n",
    "\n",
    "# def print_info(df_list):\n",
    "#     for df in df_list:\n",
    "#         print(df.info())\n",
    "#         print('')\n",
    "        \n",
    "# print_info(dataframe_list)"
   ]
  },
  {
   "cell_type": "code",
   "execution_count": 59,
   "metadata": {
    "id": "-2Rg8K_RxW0G"
   },
   "outputs": [],
   "source": [
    "# And somehow this is the only one that got left in the dataframes\n",
    "environmental_audio_df.drop(columns=['environmental_audio_duration_sec'], inplace=True)"
   ]
  },
  {
   "cell_type": "markdown",
   "metadata": {
    "id": "B_9nU4oq2coS"
   },
   "source": [
    "## ⇨ Remove duplicate rows and let's MERGE! FINALLY! No more 21 dataframes!!!"
   ]
  },
  {
   "cell_type": "code",
   "execution_count": 60,
   "metadata": {
    "colab": {
     "base_uri": "https://localhost:8080/"
    },
    "executionInfo": {
     "elapsed": 4,
     "status": "ok",
     "timestamp": 1666645938165,
     "user": {
      "displayName": "Evan Carr Homeschool",
      "userId": "06914599846009526611"
     },
     "user_tz": 240
    },
    "id": "hzNQRQLgkDs8",
    "outputId": "d4e27de4-9f8a-4305-c27b-b76c959c49e7"
   },
   "outputs": [
    {
     "data": {
      "text/plain": [
       "(347622, 7)"
      ]
     },
     "execution_count": 60,
     "metadata": {},
     "output_type": "execute_result"
    }
   ],
   "source": [
    "active_burn_df.shape"
   ]
  },
  {
   "cell_type": "code",
   "execution_count": 61,
   "metadata": {
    "id": "tyNLQcgJ2XqW"
   },
   "outputs": [],
   "source": [
    "def drop_duplicate_rows(df_list):\n",
    "    for df in df_list:\n",
    "        df.drop_duplicates(inplace=True)\n",
    "    return df_list"
   ]
  },
  {
   "cell_type": "code",
   "execution_count": 62,
   "metadata": {
    "id": "ErKMrOQ52k0Y"
   },
   "outputs": [],
   "source": [
    "[active_burn_df, distance_walk_run_df, environmental_audio_df, exercise_time_df,\n",
    "                    flights_climbed_df, heart_rate_df, high_hr_event_df, hr_variability_df,\n",
    "                    oxygen_saturation_df, respiratory_rate_df, resting_burn_df, stair_ascent_df,\n",
    "                    stair_descent_df, stand_hour_df, stand_time_df, step_count_df, step_length_df,\n",
    "                    walk_speed_df, walk_steadiness_df, walking_double_support_df, walking_hr_df] = drop_duplicate_rows(dataframe_list)"
   ]
  },
  {
   "cell_type": "code",
   "execution_count": 32,
   "metadata": {
    "id": "zrNGCrtE3UkX"
   },
   "outputs": [],
   "source": [
    "#-------------------------- REMOVE YEAR, MONTH, AND DAY COLUMNS from BABY DFs -----------------------------#\n",
    "# Function to remove the year, month, and day columns from each dataframe and add datetime column\n",
    "\n",
    "def remove_year_month_day(df_list):\n",
    "    for df in df_list:\n",
    "        df.drop(columns=['year', 'month', 'day'], inplace=True)\n",
    "    return df_list\n",
    "\n",
    "baby_dfs = [distance_walk_run_df, environmental_audio_df, exercise_time_df,\n",
    "                    flights_climbed_df, heart_rate_df, high_hr_event_df, hr_variability_df,\n",
    "                    oxygen_saturation_df, respiratory_rate_df, resting_burn_df, stair_ascent_df,\n",
    "                    stair_descent_df, stand_hour_df, stand_time_df, step_count_df, step_length_df,\n",
    "                    walk_speed_df, walk_steadiness_df, walking_double_support_df, walking_hr_df]\n",
    "\n"
   ]
  },
  {
   "cell_type": "code",
   "execution_count": 33,
   "metadata": {
    "id": "gjAJUhZ7tjqk"
   },
   "outputs": [],
   "source": [
    "[distance_walk_run_df, environmental_audio_df, exercise_time_df,\n",
    "                    flights_climbed_df, heart_rate_df, high_hr_event_df, hr_variability_df,\n",
    "                    oxygen_saturation_df, respiratory_rate_df, resting_burn_df, stair_ascent_df,\n",
    "                    stair_descent_df, stand_hour_df, stand_time_df, step_count_df, step_length_df,\n",
    "                    walk_speed_df, walk_steadiness_df, walking_double_support_df, walking_hr_df] = remove_year_month_day(baby_dfs)"
   ]
  },
  {
   "cell_type": "code",
   "execution_count": null,
   "metadata": {
    "id": "y2HxgSE-2t9p"
   },
   "outputs": [],
   "source": [
    "# --------------------------MERGING IS NIGH!-----------------------------#\n",
    "# Function to add a smaller dataframe to a larger one and not remove any rows from the larger one\n",
    "# on date and daytime_category\n",
    "\n",
    "def merge_dataframes(df1, df2):\n",
    "    df1 = df1.merge(df2, how='left', on=['date', 'daytime_category'])\n",
    "    return df1"
   ]
  },
  {
   "cell_type": "code",
   "execution_count": null,
   "metadata": {
    "colab": {
     "base_uri": "https://localhost:8080/"
    },
    "executionInfo": {
     "elapsed": 2,
     "status": "ok",
     "timestamp": 1666645941981,
     "user": {
      "displayName": "Evan Carr Homeschool",
      "userId": "06914599846009526611"
     },
     "user_tz": 240
    },
    "id": "NKovH6z54C0O",
    "outputId": "10c8399a-b88a-40ad-df55-14dd5f925a57"
   },
   "outputs": [
    {
     "data": {
      "text/plain": [
       "(2004, 7)"
      ]
     },
     "execution_count": 37,
     "metadata": {},
     "output_type": "execute_result"
    }
   ],
   "source": [
    "active_burn_df.shape"
   ]
  },
  {
   "cell_type": "code",
   "execution_count": null,
   "metadata": {
    "id": "n2Sb-vrj3cbi"
   },
   "outputs": [],
   "source": [
    "masterframe_df = merge_dataframes(active_burn_df, distance_walk_run_df)\n",
    "masterframe_df = merge_dataframes(masterframe_df, environmental_audio_df)\n",
    "masterframe_df = merge_dataframes(masterframe_df, exercise_time_df)\n",
    "masterframe_df = merge_dataframes(masterframe_df, flights_climbed_df)\n",
    "masterframe_df = merge_dataframes(masterframe_df, heart_rate_df)\n",
    "masterframe_df = merge_dataframes(masterframe_df, high_hr_event_df)\n",
    "masterframe_df = merge_dataframes(masterframe_df, hr_variability_df)\n",
    "masterframe_df = merge_dataframes(masterframe_df, oxygen_saturation_df)\n",
    "masterframe_df = merge_dataframes(masterframe_df, respiratory_rate_df)\n",
    "masterframe_df = merge_dataframes(masterframe_df, resting_burn_df)\n",
    "masterframe_df = merge_dataframes(masterframe_df, stair_ascent_df)\n",
    "masterframe_df = merge_dataframes(masterframe_df, stair_descent_df)\n",
    "masterframe_df = merge_dataframes(masterframe_df, stand_hour_df)\n",
    "masterframe_df = merge_dataframes(masterframe_df, stand_time_df)\n",
    "masterframe_df = merge_dataframes(masterframe_df, step_count_df)\n",
    "masterframe_df = merge_dataframes(masterframe_df, step_length_df)\n",
    "masterframe_df = merge_dataframes(masterframe_df, walk_speed_df)\n",
    "masterframe_df = merge_dataframes(masterframe_df, walk_steadiness_df)\n",
    "masterframe_df = merge_dataframes(masterframe_df, walking_double_support_df)\n",
    "masterframe_df = merge_dataframes(masterframe_df, walking_hr_df)\n"
   ]
  },
  {
   "cell_type": "code",
   "execution_count": null,
   "metadata": {
    "id": "pJpj_dfwZ8AS"
   },
   "outputs": [],
   "source": [
    "# --------------------------Drop Useless Columns-----------------------------#\n",
    "# Pandas Profiling showed these as being completely useless.\n",
    "\n",
    "masterframe_df.drop(columns=['stand_hour_avg', 'walk_steadiness_duration_sec_avg',\n",
    "                             'walk_steadiness_percentage_avg', 'respiratory_count_per_min_avg',\n",
    "                             'respiratory_rate_duration_sec_avg', 'high_hr_event_duration_sec_avg',\n",
    "                             'heart_rate_duration_sec_avg', 'active_burn_duration_sec_avg', \n",
    "                             'distance_walk_duration_sec_avg', 'environmental_audio_duration_sec_avg',\n",
    "                             'hr_variability_duration_sec_avg',  'oxygen_saturation_duration_sec_avg',\n",
    "                              'stand_hour_duration_sec_avg', 'step_length_duration_sec_avg', \n",
    "                             'walking_hr_duration_sec_avg', 'exercise_time_duration_sec_avg'], inplace=True)"
   ]
  },
  {
   "cell_type": "markdown",
   "metadata": {},
   "source": [
    "### ⇨ Cleaning up the naming of columns to make the dataframe more easily usable."
   ]
  },
  {
   "cell_type": "code",
   "execution_count": null,
   "metadata": {
    "id": "dw1ryiYg3hUc"
   },
   "outputs": [],
   "source": [
    "# -------------------------------------RENAME COLS----------------------------------------#\n",
    "masterframe_df.rename(columns={'year': 'yr', 'month': 'mo', 'day': 'dy', 'date': 'dt', \n",
    "                               'daytime_category': 'dy_cat',\n",
    "                               'active_cal_burned_avg': 'act_cal',\n",
    "                               'distance_walk_miles_avg': 'dist_mi',\n",
    "                               'env_audio_db_avg': 'env_au_db',\n",
    "                               'exercise_min_avg': 'ex_min',\n",
    "                               'flights_climbed_count_avg': 'climb', \n",
    "                               'flights_climbed_duration_sec_avg': 'climb_dur',\n",
    "                               'hr_activity_level': 'hr_act', 'hr_bpm_avg': 'hr_bpm',\n",
    "                               'hr_variability_ms_avg': 'hr_var_ms',\n",
    "                               'o2_sat_percentage_avg': 'o2_sat',\n",
    "                               'o2_sat_barametric_kpa_avg': 'o2_sat_kpa',\n",
    "                               'resting_burn_cal_avg': 'rest_cal', \n",
    "                               'resting_burn_duration_sec_avg': 'rest_dur',\n",
    "                               'stair_ascent_duration_sec_avg': 'upst_dur', \n",
    "                               'stair_ascent_ft_sec_avg': 'upst_ft/sec',\n",
    "                               'stair_descent_duration_sec_avg': 'dwnst_dur',\n",
    "                               'stair_descent_ft_sec_avg': 'dwnst_ft/sec',\n",
    "                               'stand_hour_avg': 'stnd_hr', 'stand_time_min_avg': 'stnd_min',\n",
    "                               'step_count_avg': 'stp_cnt',\n",
    "                               'step_count_duration_sec_avg': 'stp_cnt_sec', \n",
    "                               'step_length_inches_avg': 'stp_ins',\n",
    "                               'walk_speed_mph_avg': 'wlk_mph',\n",
    "                               'walk_speed_duration_sec_avg': 'wlk_mph_dur',\n",
    "                               'walking_double_support_percentage_avg': 'wlk_dbl_%',\n",
    "                               'walking_double_support_duration_sec_avg': 'wlk_dbl_dur',\n",
    "                               'walking_hr_bpm_avg': 'wlk_bpm',\n",
    "                               }, inplace=True)"
   ]
  },
  {
   "cell_type": "markdown",
   "metadata": {},
   "source": [
    "### ⇨ Because of the way the Apple watch collects data, many columns were spotty and contained a great deal of NaN values. I am replacing them with averages and with zeros and then will see which version gives the best feedback."
   ]
  },
  {
   "cell_type": "code",
   "execution_count": null,
   "metadata": {
    "id": "1komFMUuVtGc"
   },
   "outputs": [],
   "source": [
    "# --------------------------------NaNs to AVERAGE--------------------------------------------#\n",
    "# Function to replace NaNs with average of column for every value in the dataframe\n",
    "\n",
    "def replace_nans(df):\n",
    "    for col in df.columns:\n",
    "        df[col].fillna((df[col].mean()), inplace=True)\n",
    "    return df\n",
    "\n"
   ]
  },
  {
   "cell_type": "code",
   "execution_count": null,
   "metadata": {
    "id": "LPgy0QSny1Am"
   },
   "outputs": [],
   "source": [
    "df_avgs = replace_nans(masterframe_df)"
   ]
  },
  {
   "cell_type": "code",
   "execution_count": null,
   "metadata": {
    "id": "WOgfYOe-aour"
   },
   "outputs": [],
   "source": [
    "#------------------------------------NaNs to Zeros------------------------------------------#\n",
    "# Function to replace NaNs with 0\n",
    "\n",
    "def replace_nans_with_zero(df):\n",
    "    for col in df.columns:\n",
    "        df[col].fillna(0, inplace=True)\n",
    "    return df\n",
    "\n",
    "df_zeros = replace_nans_with_zero(masterframe_df)"
   ]
  },
  {
   "cell_type": "code",
   "execution_count": null,
   "metadata": {
    "id": "q3E-MeJaf3ap"
   },
   "outputs": [],
   "source": [
    "#------------------------------------ADDING WEEKDAY NAMES------------------------------------------#\n",
    "# Add a column with the day of the week to the 3 merged dataframes\n",
    "\n",
    "df_avgs['wkdy'] = df_avgs['dt'].dt.day_name()\n",
    "df_zeros['wkdy'] = df_zeros['dt'].dt.day_name()"
   ]
  },
  {
   "cell_type": "markdown",
   "metadata": {},
   "source": [
    "### ⇨ Although it possibly seems odd, adding a moon phase column to the data, because there has definitely been a noticed correlation over the past three years of illness relating to the phases of the moon."
   ]
  },
  {
   "cell_type": "code",
   "execution_count": null,
   "metadata": {
    "colab": {
     "base_uri": "https://localhost:8080/"
    },
    "executionInfo": {
     "elapsed": 194,
     "status": "ok",
     "timestamp": 1666645984031,
     "user": {
      "displayName": "Evan Carr Homeschool",
      "userId": "06914599846009526611"
     },
     "user_tz": 240
    },
    "id": "gLujgO2UfvXJ",
    "outputId": "26e97aec-38f2-410c-e7ba-9e0ca85e349a"
   },
   "outputs": [
    {
     "name": "stdout",
     "output_type": "stream",
     "text": [
      "New Moon (0.989)\n"
     ]
    }
   ],
   "source": [
    "# ---------------------------------ADDING MOON PHASES-------------------------------------------#\n",
    "\"\"\"\n",
    "moonphase.py - Calculate Lunar Phase\n",
    "Author: Sean B. Palmer, inamidst.com\n",
    "Cf. http://en.wikipedia.org/wiki/Lunar_phase#Lunar_phase_calculation\n",
    "\"\"\"\n",
    "\n",
    "import math, decimal, datetime\n",
    "\n",
    "dec = decimal.Decimal\n",
    "\n",
    "\n",
    "def position(now=None):\n",
    "    if now is None:\n",
    "        now = datetime.datetime.now()\n",
    "\n",
    "    diff = now - datetime.datetime(2001, 1, 1)\n",
    "    days = dec(diff.days) + (dec(diff.seconds) / dec(86400))\n",
    "    lunations = dec(\"0.20439731\") + (days * dec(\"0.03386319269\"))\n",
    "\n",
    "    return lunations % dec(1)\n",
    "\n",
    "\n",
    "def phase(pos):\n",
    "    index = (pos * dec(8)) + dec(\"0.5\")\n",
    "    index = math.floor(index)\n",
    "    return {\n",
    "        0: \"New Moon\",\n",
    "        1: \"Waxing Crescent\",\n",
    "        2: \"First Quarter\",\n",
    "        3: \"Waxing Gibbous\",\n",
    "        4: \"Full Moon\",\n",
    "        5: \"Waning Gibbous\",\n",
    "        6: \"Last Quarter\",\n",
    "        7: \"Waning Crescent\"\n",
    "    }[int(index) & 7]\n",
    "\n",
    "\n",
    "def main():\n",
    "    pos = position()\n",
    "    phasename = phase(pos)\n",
    "\n",
    "    roundedpos = round(float(pos), 3)\n",
    "    print(\"%s (%s)\" % (phasename, roundedpos))\n",
    "\n",
    "\n",
    "if __name__ == \"__main__\":\n",
    "    main()"
   ]
  },
  {
   "cell_type": "code",
   "execution_count": null,
   "metadata": {
    "id": "t0sPRYD00u-v"
   },
   "outputs": [],
   "source": [
    "#------------------------------------APPLYING MOON PHASES------------------------------------------#\n",
    "\n",
    "df_avgs['moon'] = 0\n",
    "df_avgs['moon'] = df_avgs['dt'].apply(lambda x: phase(position(x)))\n",
    "df_zeros['moon'] = 0\n",
    "df_zeros['moon'] = df_avgs['dt'].apply(lambda x: phase(position(x)))"
   ]
  },
  {
   "cell_type": "code",
   "execution_count": null,
   "metadata": {
    "id": "AQjHh1IffvSH"
   },
   "outputs": [],
   "source": [
    "# masterframe_df.to_csv('masterframe_df.csv')\n",
    "df_avgs.to_csv('df_avgs.csv')\n",
    "df_zeros.to_csv('df_zeros.csv')"
   ]
  },
  {
   "cell_type": "code",
   "execution_count": 65,
   "metadata": {},
   "outputs": [
    {
     "data": {
      "application/javascript": [
       "window.require && require([\"base/js/namespace\"],function(Jupyter){Jupyter.notebook.save_checkpoint()})"
      ],
      "text/plain": [
       "<IPython.core.display.Javascript object>"
      ]
     },
     "metadata": {},
     "output_type": "display_data"
    },
    {
     "name": "stdout",
     "output_type": "stream",
     "text": [
      "[jovian] Updating notebook \"evanmarie/puppy-project-01\" on https://jovian.ai\u001b[0m\n",
      "[jovian] Committed successfully! https://jovian.ai/evanmarie/puppy-project-01\u001b[0m\n"
     ]
    },
    {
     "data": {
      "text/plain": [
       "'https://jovian.ai/evanmarie/puppy-project-01'"
      ]
     },
     "execution_count": 65,
     "metadata": {},
     "output_type": "execute_result"
    }
   ],
   "source": [
    "jovian.commit()"
   ]
  },
  {
   "cell_type": "code",
   "execution_count": null,
   "metadata": {},
   "outputs": [],
   "source": []
  }
 ],
 "metadata": {
  "colab": {
   "authorship_tag": "ABX9TyNjRO42+GVjxNf2NDmbte0f",
   "collapsed_sections": [],
   "provenance": []
  },
  "kernelspec": {
   "display_name": "Python 3 (ipykernel)",
   "language": "python",
   "name": "python3"
  },
  "language_info": {
   "codemirror_mode": {
    "name": "ipython",
    "version": 3
   },
   "file_extension": ".py",
   "mimetype": "text/x-python",
   "name": "python",
   "nbconvert_exporter": "python",
   "pygments_lexer": "ipython3",
   "version": "3.9.6"
  }
 },
 "nbformat": 4,
 "nbformat_minor": 1
}
